{
 "cells": [
  {
   "cell_type": "code",
   "execution_count": 2,
   "metadata": {},
   "outputs": [],
   "source": [
    "import praw\n",
    "from requests import Session"
   ]
  },
  {
   "cell_type": "code",
   "execution_count": 16,
   "metadata": {},
   "outputs": [
    {
     "name": "stdout",
     "output_type": "stream",
     "text": [
      "False\n"
     ]
    }
   ],
   "source": [
    "session = Session()\n",
    "session.verify = \"/path/to/certfile.pem\"\n",
    "reddit = praw.Reddit(\n",
    "    client_id=\"5CrM7dWS0hPaiGLXBrNLpA\",\n",
    "    client_secret=\"jzhgT8wy-sZ7WCTg8dpxTXDXQ6Q7Lw\",\n",
    "    password=\"foreng370W\",\n",
    "    user_agent=\"macscraper\",\n",
    "    username=\"Fit_Amoeba4240\",\n",
    ")\n",
    "\n",
    "print(reddit.read_only)"
   ]
  },
  {
   "cell_type": "markdown",
   "metadata": {},
   "source": [
    "## For shows with their own subreddit"
   ]
  },
  {
   "cell_type": "code",
   "execution_count": 41,
   "metadata": {},
   "outputs": [],
   "source": [
    "# assume you have a praw.Reddit instance bound to variable `reddit`\n",
    "subreddit_names = [\"TheApothecaryDiaries\"]\n",
    "\n",
    "for subreddit_name in subreddit_names:\n",
    "    subreddit = reddit.subreddit(subreddit_name)\n",
    "\n",
    "    output_file = f\"{subreddit_name}_comments.txt\"\n",
    "\n",
    "    with open(output_file, \"w\", encoding=\"utf-8\") as file:\n",
    "        for submission in subreddit.hot():\n",
    "            submission.comments.replace_more(limit=None)  # Load all comments\n",
    "\n",
    "            for comment in submission.comments.list():\n",
    "                file.write(comment.body + \"\\n\")\n"
   ]
  },
  {
   "cell_type": "markdown",
   "metadata": {},
   "source": [
    "## Looking at just one submission's comments"
   ]
  },
  {
   "cell_type": "code",
   "execution_count": 40,
   "metadata": {},
   "outputs": [],
   "source": [
    "submission_id = \"1426cb7\"  # Replace with the ID of the submission you want to scrape comments from\n",
    "submission = reddit.submission(id=submission_id)\n",
    "\n",
    "output_file = f\"LaReinaDelSur.txt\"\n",
    "\n",
    "with open(output_file, \"w\", encoding=\"utf-8\") as file:\n",
    "    submission.comments.replace_more()  # Load all comments\n",
    "\n",
    "    for comment in submission.comments.list():\n",
    "        file.write(comment.body + \"\\n\")"
   ]
  }
 ],
 "metadata": {
  "kernelspec": {
   "display_name": "Python 3",
   "language": "python",
   "name": "python3"
  },
  "language_info": {
   "codemirror_mode": {
    "name": "ipython",
    "version": 3
   },
   "file_extension": ".py",
   "mimetype": "text/x-python",
   "name": "python",
   "nbconvert_exporter": "python",
   "pygments_lexer": "ipython3",
   "version": "3.10.8"
  }
 },
 "nbformat": 4,
 "nbformat_minor": 2
}
